{
 "cells": [
  {
   "cell_type": "markdown",
   "id": "12e08532",
   "metadata": {},
   "source": [
    "# Preprocessing\n",
    "Prepare synthetic ontology for DL Learner.\n",
    "\n",
    "For each synthetic ontology:\n",
    "- prepare whole knowledge base (mergy ontology and graph) ✔️\n",
    "- add prefixes http://example.org/entity ✔️\n",
    "\n",
    "- prepare default conf file ✔️\n",
    "- take positives and negatives from gold standard ✔️\n",
    "\n",
    "- add prefixes to conf ✔️\n",
    "- add Namespace ✔️\n",
    "\n",
    "Return per pattern:\n",
    "- a knowledge base file\n",
    "- a conf file"
   ]
  },
  {
   "cell_type": "code",
   "execution_count": 1,
   "id": "b508e8d2",
   "metadata": {},
   "outputs": [
    {
     "name": "stderr",
     "output_type": "stream",
     "text": [
      "C:\\Users\\raine\\anaconda3\\lib\\site-packages\\pandas\\core\\computation\\expressions.py:21: UserWarning: Pandas requires version '2.8.4' or newer of 'numexpr' (version '2.8.3' currently installed).\n",
      "  from pandas.core.computation.check import NUMEXPR_INSTALLED\n",
      "C:\\Users\\raine\\anaconda3\\lib\\site-packages\\pandas\\core\\arrays\\masked.py:60: UserWarning: Pandas requires version '1.3.6' or newer of 'bottleneck' (version '1.3.5' currently installed).\n",
      "  from pandas.core import (\n"
     ]
    }
   ],
   "source": [
    "import numpy as np\n",
    "import pandas as pd"
   ]
  },
  {
   "cell_type": "code",
   "execution_count": 5,
   "id": "5c97d085",
   "metadata": {},
   "outputs": [],
   "source": [
    "# set paths to all files:\n",
    "\n",
    "# needs configure:\n",
    "dataset_path = '../data/Generated Datasets/synthetic_ontology20-2/'\n",
    "num_of_samples = '20/'\n",
    "# DLCC confuses train and test split! \n",
    "# below are training samples to enter into the config file\n",
    "#train_split =  num_of_samples + 'train_test/' + 'test.txt'\n",
    "positives =  num_of_samples + 'positives.txt'\n",
    "negatives =  num_of_samples + 'negatives.txt'\n",
    "\n",
    "# where to save the files to:\n",
    "full_ont_suffix = '_full.nt'\n",
    "save_path = '../data/Configurations/Final_ocel_rho/20-2/'\n",
    "\n",
    "# base\n",
    "samples =  num_of_samples\n",
    "namespace_prefix= 'http://example.org/'"
   ]
  },
  {
   "cell_type": "code",
   "execution_count": 6,
   "id": "524065a8",
   "metadata": {},
   "outputs": [],
   "source": [
    "patterns = [\"tc01\", \"tc02\", \"tc03\", \"tc04\", \"tc05\", \"tc06\", \"tc07\", \"tc08\", \"tc09\", \"tc10\", \"tc11\", \"tc12\" ]"
   ]
  },
  {
   "cell_type": "code",
   "execution_count": 4,
   "id": "56a963c9",
   "metadata": {},
   "outputs": [],
   "source": [
    "def add_namespace(string, namespace):\n",
    "    return string.replace('<C', '<' + namespace + 'C').replace('<I', '<' + namespace+'I').replace('<P', '<' + namespace+'P').replace('<E', '<' + namespace+'E')\n",
    "\n",
    "def write_to_file(full_path, array):\n",
    "    f = open(full_path, 'a')\n",
    "    for i in array:\n",
    "        nLine = add_namespace(i, namespace_prefix)\n",
    "        f.write(f\"{nLine}\\n\")\n",
    "    #f.write(f\"\\n\")\n",
    "    f.close()"
   ]
  },
  {
   "cell_type": "code",
   "execution_count": 5,
   "id": "37cbdefc",
   "metadata": {},
   "outputs": [],
   "source": [
    "minimalist_conf = '''// perform cross validation\n",
    "cli.type = \"org.dllearner.cli.CLI\"\n",
    "cli.performCrossValidation = false\n",
    "\n",
    "// declare some prefixes to use as abbreviations\n",
    "prefixes = [ (\"ex\",\"http://example.org/\") ]\n",
    "\n",
    "// knowledge source definition\n",
    "ks.type = \"OWL File\"\n",
    "\n",
    "// reasoner\n",
    "reasoner.type = \"closed world reasoner\"\n",
    "reasoner.sources = { ks }\n",
    "\n",
    "// learning problem\n",
    "lp.type = \"posNegStandard\"\n",
    "\n",
    "// rho refinement operator\n",
    "op.type = \"rho\"\n",
    "op.useHasValueConstructor = false\n",
    "op.useInverse = true\n",
    "op.useExistsConstructor = true\n",
    "op.useCardinalityRestrictions = true\n",
    "\n",
    "// create learning algorithm to runs\n",
    "alg.type = \"ocel\"\n",
    "alg.operator = op\n",
    "alg.maxExecutionTimeInSeconds = 300\n",
    "\n",
    "// automatically generated conf\n",
    "'''"
   ]
  },
  {
   "cell_type": "code",
   "execution_count": 6,
   "id": "2300b4ce",
   "metadata": {},
   "outputs": [],
   "source": [
    "def fix_format(array):\n",
    "    for idx, e in enumerate(array):\n",
    "        n = e.replace('<','\"ex:').replace('>','\"')\n",
    "        array[idx] = n\n",
    "    return array\n",
    "\n",
    "def write_array_to_file(full_path, conf_prefix, array):\n",
    "    c = open(full_path, 'a')\n",
    "    c.write(conf_prefix + ' = { \\n')\n",
    "    for i in array[:-1]:\n",
    "        c.write(f'{i},\\n')\n",
    "    x = len(array) \n",
    "    c.write(f'{array[x-1]}\\n')\n",
    "    c.write('}\\n')\n",
    "    c.close()\n",
    "\n",
    "def write_key_line_to_file(full_path, key, value):\n",
    "    c = open(full_path, 'a')\n",
    "    c.write(f'{key} = \"{value}\" \\n')\n",
    "    c.close()"
   ]
  },
  {
   "cell_type": "code",
   "execution_count": 7,
   "id": "b0dc5228",
   "metadata": {},
   "outputs": [],
   "source": [
    "def write_negatives(full_path, input_path):\n",
    "    neg = pd.read_csv(filepath_or_buffer=input_path, header= None)\n",
    "    lp_neg = fix_format(neg[0].to_numpy())\n",
    "    write_array_to_file(full_path, 'lp.negativeExamples', lp_neg)\n",
    "\n",
    "def write_positives(full_path, input_path):\n",
    "    pos = pd.read_csv(filepath_or_buffer=input_path, header= None)\n",
    "    lp_pos = fix_format(pos[0].to_numpy())\n",
    "    write_array_to_file(full_path, 'lp.positiveExamples', lp_pos)\n"
   ]
  },
  {
   "cell_type": "code",
   "execution_count": 8,
   "id": "dbc62da9",
   "metadata": {},
   "outputs": [],
   "source": [
    "for p in patterns:\n",
    "    # set paths\n",
    "    iterate_synth_data = p\n",
    "    path_prefix = './' + dataset_path + iterate_synth_data + '/synthetic_ontology/' \n",
    "    path_to_samples = path_prefix + samples\n",
    "\n",
    "    full_ont_filename = save_path + p + full_ont_suffix\n",
    "    path = path_prefix + 'graph.nt'\n",
    "    graph_data = pd.read_csv(filepath_or_buffer=path, header= None)\n",
    "    path = path_prefix + 'ontology.nt'\n",
    "    ont_data = pd.read_csv(filepath_or_buffer=path, header= None)\n",
    "    graph = graph_data[0].to_numpy()\n",
    "    ont = ont_data[0].to_numpy()\n",
    "    \n",
    "    # create kb\n",
    "    write_to_file(full_ont_filename,ont)\n",
    "    write_to_file(full_ont_filename,graph)\n",
    "    \n",
    "    #pos - neg paths\n",
    "    pos_path = path_prefix + positives\n",
    "    neg_path = path_prefix + negatives\n",
    "    \n",
    "    #write conf\n",
    "    conf_path = save_path + iterate_synth_data +'.conf'\n",
    "    c = open(conf_path, 'a')\n",
    "    c.write(minimalist_conf)\n",
    "    c.close()\n",
    "    filename = p + full_ont_suffix\n",
    "    write_key_line_to_file(conf_path, 'ks.fileName',filename)\n",
    "    write_positives(conf_path,pos_path)\n",
    "    write_negatives(conf_path,neg_path)\n",
    "    "
   ]
  },
  {
   "cell_type": "code",
   "execution_count": 9,
   "id": "0ed5f364",
   "metadata": {},
   "outputs": [
    {
     "name": "stdout",
     "output_type": "stream",
     "text": [
      "Finished generating knowledge base and configs\n"
     ]
    }
   ],
   "source": [
    "print(\"Finished generating knowledge base and configs\")"
   ]
  }
 ],
 "metadata": {
  "kernelspec": {
   "display_name": "Python 3 (ipykernel)",
   "language": "python",
   "name": "python3"
  },
  "language_info": {
   "codemirror_mode": {
    "name": "ipython",
    "version": 3
   },
   "file_extension": ".py",
   "mimetype": "text/x-python",
   "name": "python",
   "nbconvert_exporter": "python",
   "pygments_lexer": "ipython3",
   "version": "3.9.13"
  }
 },
 "nbformat": 4,
 "nbformat_minor": 5
}
