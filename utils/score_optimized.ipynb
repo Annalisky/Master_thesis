{
 "cells": [
  {
   "cell_type": "markdown",
   "id": "b59355e3",
   "metadata": {},
   "source": [
    "# Score Accuracy on test set\n",
    "\n",
    "Input:\n",
    "- DLCC dataset \n",
    "- Result of DL-Learner\n",
    "\n",
    "Output:\n",
    "\n",
    "- Accuracy heatmap for the first 10 symbolic models per DLCC test case\n",
    "\n",
    "\n",
    "Restriction: only works for standard refinement operator, adapted rho refinement operator produces concepts that the owlapy library cannot transform into a SPARQL Query\n",
    "\n",
    "How to use: Input the paths and run all"
   ]
  },
  {
   "cell_type": "code",
   "execution_count": 1,
   "id": "edf2668c",
   "metadata": {},
   "outputs": [
    {
     "name": "stderr",
     "output_type": "stream",
     "text": [
      "C:\\Users\\raine\\anaconda3\\lib\\site-packages\\pandas\\core\\computation\\expressions.py:21: UserWarning: Pandas requires version '2.8.4' or newer of 'numexpr' (version '2.8.3' currently installed).\n",
      "  from pandas.core.computation.check import NUMEXPR_INSTALLED\n",
      "C:\\Users\\raine\\anaconda3\\lib\\site-packages\\pandas\\core\\arrays\\masked.py:60: UserWarning: Pandas requires version '1.3.6' or newer of 'bottleneck' (version '1.3.5' currently installed).\n",
      "  from pandas.core import (\n"
     ]
    }
   ],
   "source": [
    "# standard imports\n",
    "import numpy as np\n",
    "import pandas as pd"
   ]
  },
  {
   "cell_type": "code",
   "execution_count": 2,
   "id": "9320dc44",
   "metadata": {},
   "outputs": [],
   "source": [
    "# OwlParser and SPARQL Converter\n",
    "from owlapy.parser import DLSyntaxParser\n",
    "from owlapy.parser import ManchesterOWLSyntaxParser\n",
    "from owlapy.parser import MANCHESTER_GRAMMAR as g\n",
    "from owlapy.owl2sparql.converter import Owl2SparqlConverter\n",
    "\n",
    "# rdflib + dependencies\n",
    "import logging\n",
    "import sys\n",
    "from pathlib import Path\n",
    "\n",
    "import rdflib\n",
    "\n",
    "# reasoning\n",
    "from pyfactxx import coras\n",
    "from pyfactxx.coras.cli import load_and_parse\n",
    "\n",
    "# accuracy metrics\n",
    "import seaborn as sns\n",
    "from sklearn.metrics import accuracy_score\n",
    "\n",
    "#tqdm\n",
    "from tqdm import tqdm\n",
    "\n",
    "# time\n",
    "import time"
   ]
  },
  {
   "cell_type": "code",
   "execution_count": 4,
   "id": "91584ab0",
   "metadata": {},
   "outputs": [],
   "source": [
    "# SET ALL PATHS\n",
    "# Test set Directory\n",
    "test_set_directory = '../data/Generated Datasets/synthetic_ontology20/'\n",
    "patterns = ['tc01','tc02','tc03','tc04','tc05','tc06','tc07','tc08','tc09','tc10','tc11','tc12']\n",
    "intermediate = '/synthetic_ontology/'\n",
    "# change amount here\n",
    "path_to_split = intermediate + '20/train_test/'\n",
    "\n",
    "# results of DLCC Generator are misnamed; train and test are switched\n",
    "# Train test not switched for 1000 instances \n",
    "test_file='train.txt'\n",
    "namespace='http://example.org/'\n",
    "graph_suffix ='_full.nt'\n",
    "dlcc_config = 'configuration.txt'\n",
    "\n",
    "# result directory\n",
    "result_dir = '../data/DL-Learner_outputs/Celoe_initial/res20-20.03/'\n",
    "res_file_suffix = 'Res.txt'\n",
    "\n",
    "# PATH TO RESULT to save heatmap later\n",
    "result_fig = result_dir \n"
   ]
  },
  {
   "cell_type": "code",
   "execution_count": 4,
   "id": "22aa181b",
   "metadata": {},
   "outputs": [],
   "source": [
    "def retrieve_model_if_present(result_path:str, model_nr:int):\n",
    "    with open(result_path) as f:\n",
    "        datafile = f.readlines()\n",
    "    found = False\n",
    "    model = False\n",
    "    search_str = str(model_nr)+': '\n",
    "    for line in datafile:\n",
    "        if found:\n",
    "            # find specific model\n",
    "            if search_str in line:\n",
    "                model = True\n",
    "                model_str = line\n",
    "                # only loop until required line\n",
    "                break;\n",
    "        # Solutions string only present if a symbolic model has been created by DL-Learner\n",
    "        if 'solutions:' in line:\n",
    "            found = True\n",
    "    # required line has been found\n",
    "    if found & model:\n",
    "        strip = model_str.removeprefix(search_str).removesuffix('\\n')\n",
    "        sep = '(pred. acc.:'\n",
    "        # strip predicted model accuracy, leaves symbolic model als owl triple string\n",
    "        stripped = strip.split(sep, 1)[0]\n",
    "        return stripped\n",
    "    # impicit else: \n",
    "    # only happens if no models have been generated (example -> DL-Learner finished on an exception)\n",
    "    return 'noModel'"
   ]
  },
  {
   "cell_type": "code",
   "execution_count": 5,
   "id": "b04c28d0",
   "metadata": {},
   "outputs": [],
   "source": [
    "def convert_model_string_to_sparql(model_string):\n",
    "    # initialize parser\n",
    "    p = ManchesterOWLSyntaxParser(namespace=namespace)\n",
    "    # parse to owl class expression\n",
    "    ce = p.parse_expression(expression_str = model_string)\n",
    "    # convert to sparql\n",
    "    conv = Owl2SparqlConverter()\n",
    "    query = conv.as_query(root_variable='?x', ce=ce)\n",
    "    #print(query)\n",
    "    return query"
   ]
  },
  {
   "cell_type": "code",
   "execution_count": 6,
   "id": "36366171",
   "metadata": {},
   "outputs": [],
   "source": [
    "def build_queries_for_pattern(result_path:str):\n",
    "    # Query Arraylist -> Quarray\n",
    "    quarray = []\n",
    "    # this is inefficient, code has grown historically\n",
    "    for i in range(10):\n",
    "        # range starts counting at 0; DL-Learner solutions start counting at 1\n",
    "        i =i+1\n",
    "        model_str = retrieve_model_if_present(result_path, i)\n",
    "        if 'noModel' in model_str:\n",
    "            print(f\"Warning: No Model could be retrieved from {result_path}.\")\n",
    "            print(f\"Debug: 'noModel' at index {i}\")\n",
    "            # append empty string for error handling -> done in a later method\n",
    "            quarray.append('noModel')\n",
    "            continue\n",
    "        else:\n",
    "            query = convert_model_string_to_sparql(model_str)\n",
    "            quarray.append(query)\n",
    "    return quarray"
   ]
  },
  {
   "cell_type": "code",
   "execution_count": 7,
   "id": "7b95d879",
   "metadata": {},
   "outputs": [],
   "source": [
    "def build_query_df():\n",
    "    df = pd.DataFrame(columns=patterns)\n",
    "    for p in tqdm(patterns, desc = \"Building queries from symbolic models\"):\n",
    "        # retrieve result file txt\n",
    "        result_path = result_dir + p + res_file_suffix\n",
    "        querylist = build_queries_for_pattern(result_path)\n",
    "        df[p] = querylist\n",
    "    return df"
   ]
  },
  {
   "cell_type": "code",
   "execution_count": 8,
   "id": "f2700bf7",
   "metadata": {},
   "outputs": [],
   "source": [
    "def generate_pred(x_test, result_set):\n",
    "    # is test data found in result set? -> positive class\n",
    "    if x_test in result_set:\n",
    "        return 1\n",
    "    else: # -> negative class\n",
    "        return 0"
   ]
  },
  {
   "cell_type": "code",
   "execution_count": 9,
   "id": "305423b1",
   "metadata": {},
   "outputs": [],
   "source": [
    "def get_kb(path:str, doReason:bool):\n",
    "    if doReason:\n",
    "        start = time.time() \n",
    "        crs = coras.Coras()\n",
    "        # this lib does not read .nt files \n",
    "        # .nt is a subset of n3 \n",
    "        # // src= https://etutorials.org/Misc/Practical+resource+description+framework+rdf/Chapter+2.+RDF+Heart+and+Soul/2.5+RDF+Serialization+N3+and+N-Triples/\n",
    "        crs.load(path, format='n3')\n",
    "        crs.parse()\n",
    "        # reasoning: Do once per pattern! It takes some time\n",
    "        crs.realise()\n",
    "        end = time.time()\n",
    "        print(f\"Total runtime of the ontology materialization is {end - start}\")\n",
    "    else:\n",
    "        # more efficient for large ontologies than the lib above\n",
    "        crs = rdflib.Graph()\n",
    "        # this library can read nt files -> prefer\n",
    "        crs.parse(path, format=\"nt\")\n",
    "    return crs"
   ]
  },
  {
   "cell_type": "code",
   "execution_count": 10,
   "id": "fb59b0c1",
   "metadata": {},
   "outputs": [],
   "source": [
    "def for_pattern(p:str, doReason:bool, queries):\n",
    "    ontology_path =  test_set_directory + p + intermediate + p + graph_suffix\n",
    "    # get KB from ontology file\n",
    "    crs = get_kb(ontology_path, doReason)\n",
    "    # list to collect accuracies\n",
    "    mdl_accuracies = []\n",
    "    # obtain test data\n",
    "    test_path= test_set_directory + p + path_to_split + test_file\n",
    "    test_data = pd.read_csv(filepath_or_buffer=test_path, header= None, sep='\\t')\n",
    "    # fix format\n",
    "    test_data[0] = test_data[0].map(lambda x: x.removeprefix('<').removesuffix('>'))\n",
    "    y_test = test_data[:][1]\n",
    "    X_test = test_data[:][0]\n",
    "    for query in tqdm(queries):\n",
    "        # query the knowledge base\n",
    "        result_set = crs.query(query)\n",
    "        # get query result set\n",
    "        returnlist = []\n",
    "        for row in result_set:\n",
    "            # this takes a lot of time but is necessary (?)\n",
    "            assert isinstance(row, rdflib.query.ResultRow)\n",
    "            # formatting the returned results to match test data\n",
    "            returnlist.append(str(row.x).removeprefix(namespace))\n",
    "        # check if X_test is in result set\n",
    "        y_pred = X_test.apply(lambda x: generate_pred(x, set(returnlist)))\n",
    "        # score\n",
    "        acc = accuracy_score(y_test, y_pred)\n",
    "        # append score to list\n",
    "        mdl_accuracies.append(acc)\n",
    "    # return list of 10 accuracies; one per query \n",
    "    return(mdl_accuracies)"
   ]
  },
  {
   "cell_type": "code",
   "execution_count": 11,
   "id": "06ef8771",
   "metadata": {},
   "outputs": [],
   "source": [
    "def generate_figure(df, saveFigPath):\n",
    "    %matplotlib inline\n",
    "    plot = sns.heatmap(df,vmin = 0.3, vmax = 1, annot=True)\n",
    "    plot.set_yticklabels(['1', '2', '3', '4', '5', '6', '7', '8', '9', '10 '])\n",
    "    plot.tick_params(axis='x', labelrotation=45)\n",
    "    plot.set_ylabel(\"Symbolic Models\")\n",
    "    plot.tick_params(axis='y', labelrotation=0)\n",
    "    fig = plot.get_figure()\n",
    "    #fig.savefig(saveFigPath)"
   ]
  },
  {
   "cell_type": "code",
   "execution_count": 12,
   "id": "419568dd",
   "metadata": {},
   "outputs": [],
   "source": [
    "def run(doReason:bool, savePath:str):\n",
    "    heatmap = pd.DataFrame(columns=patterns)\n",
    "    all_queries = build_query_df()\n",
    "    loop = tqdm(patterns)\n",
    "    for p in loop:\n",
    "        loop.set_description(f\"Processing {p}\")\n",
    "        pattern_queries = all_queries[p]\n",
    "        if 'noModel' in list(pattern_queries):\n",
    "            # -1 as return if DL-Learner has noModel\n",
    "            heatmap[p] = np.full((10), -1)\n",
    "            # skip to next pattern\n",
    "            continue\n",
    "        pattern_accuracies = for_pattern(p,doReason,pattern_queries)\n",
    "        heatmap[p] = pattern_accuracies\n",
    "    generate_figure(heatmap, savePath)"
   ]
  },
  {
   "cell_type": "code",
   "execution_count": 13,
   "id": "8797bdf8",
   "metadata": {},
   "outputs": [
    {
     "name": "stderr",
     "output_type": "stream",
     "text": [
      "Building queries from symbolic models: 100%|███████████████████████████████████████████| 12/12 [00:04<00:00,  2.66it/s]\n",
      "Processing tc01:   0%|                                                                          | 0/12 [00:00<?, ?it/s]"
     ]
    },
    {
     "name": "stdout",
     "output_type": "stream",
     "text": [
      "Total runtime of the ontology realization is 0.4131495952606201\n"
     ]
    },
    {
     "name": "stderr",
     "output_type": "stream",
     "text": [
      "\n",
      "  0%|                                                                                           | 0/10 [00:00<?, ?it/s]\u001b[A\n",
      " 10%|████████▎                                                                          | 1/10 [00:00<00:00,  9.98it/s]\u001b[A\n",
      " 20%|████████████████▌                                                                  | 2/10 [00:01<00:04,  1.66it/s]\u001b[A\n",
      " 30%|████████████████████████▉                                                          | 3/10 [00:02<00:05,  1.28it/s]\u001b[A\n",
      " 40%|█████████████████████████████████▏                                                 | 4/10 [00:02<00:04,  1.21it/s]\u001b[A\n",
      " 50%|█████████████████████████████████████████▌                                         | 5/10 [00:03<00:04,  1.14it/s]\u001b[A\n",
      " 60%|█████████████████████████████████████████████████▊                                 | 6/10 [00:04<00:03,  1.10it/s]\u001b[A\n",
      " 70%|██████████████████████████████████████████████████████████                         | 7/10 [00:05<00:02,  1.08it/s]\u001b[A\n",
      " 80%|██████████████████████████████████████████████████████████████████▍                | 8/10 [00:06<00:01,  1.07it/s]\u001b[A\n",
      " 90%|██████████████████████████████████████████████████████████████████████████▋        | 9/10 [00:07<00:00,  1.07it/s]\u001b[A\n",
      "100%|██████████████████████████████████████████████████████████████████████████████████| 10/10 [00:08<00:00,  1.15it/s]\u001b[A\n",
      "Processing tc02:   8%|█████▌                                                            | 1/12 [00:09<01:40,  9.17s/it]"
     ]
    },
    {
     "name": "stdout",
     "output_type": "stream",
     "text": [
      "Total runtime of the ontology realization is 0.4245128631591797\n"
     ]
    },
    {
     "name": "stderr",
     "output_type": "stream",
     "text": [
      "\n",
      "  0%|                                                                                           | 0/10 [00:00<?, ?it/s]\u001b[A\n",
      "100%|██████████████████████████████████████████████████████████████████████████████████| 10/10 [00:00<00:00, 56.06it/s]\u001b[A\n",
      "Processing tc03:  17%|███████████                                                       | 2/12 [00:09<00:41,  4.14s/it]"
     ]
    },
    {
     "name": "stdout",
     "output_type": "stream",
     "text": [
      "Total runtime of the ontology realization is 0.3343827724456787\n"
     ]
    },
    {
     "name": "stderr",
     "output_type": "stream",
     "text": [
      "\n",
      "  0%|                                                                                           | 0/10 [00:00<?, ?it/s]\u001b[A\n",
      " 10%|████████▎                                                                          | 1/10 [00:01<00:12,  1.35s/it]\u001b[A\n",
      " 20%|████████████████▌                                                                  | 2/10 [00:02<00:07,  1.05it/s]\u001b[A\n",
      " 30%|████████████████████████▉                                                          | 3/10 [00:02<00:06,  1.04it/s]\u001b[A\n",
      " 40%|█████████████████████████████████▏                                                 | 4/10 [00:03<00:05,  1.05it/s]\u001b[A\n",
      " 50%|█████████████████████████████████████████▌                                         | 5/10 [00:04<00:04,  1.04it/s]\u001b[A\n",
      " 60%|█████████████████████████████████████████████████▊                                 | 6/10 [00:05<00:03,  1.06it/s]\u001b[A\n",
      " 70%|██████████████████████████████████████████████████████████                         | 7/10 [00:06<00:02,  1.04it/s]\u001b[A\n",
      " 80%|██████████████████████████████████████████████████████████████████▍                | 8/10 [00:07<00:01,  1.04it/s]\u001b[A\n",
      " 90%|██████████████████████████████████████████████████████████████████████████▋        | 9/10 [00:08<00:00,  1.05it/s]\u001b[A\n",
      "100%|██████████████████████████████████████████████████████████████████████████████████| 10/10 [00:09<00:00,  1.03it/s]\u001b[A\n",
      "Processing tc04:  25%|████████████████▌                                                 | 3/12 [00:19<01:01,  6.83s/it]"
     ]
    },
    {
     "name": "stdout",
     "output_type": "stream",
     "text": [
      "Total runtime of the ontology realization is 0.48105382919311523\n"
     ]
    },
    {
     "name": "stderr",
     "output_type": "stream",
     "text": [
      "\n",
      "  0%|                                                                                           | 0/10 [00:00<?, ?it/s]\u001b[A\n",
      " 10%|████████▎                                                                          | 1/10 [00:16<02:32, 16.96s/it]\u001b[A\n",
      " 20%|████████████████▌                                                                  | 2/10 [00:33<02:14, 16.83s/it]\u001b[A\n",
      " 30%|████████████████████████▉                                                          | 3/10 [00:50<01:57, 16.74s/it]\u001b[A\n",
      " 40%|█████████████████████████████████▏                                                 | 4/10 [01:07<01:40, 16.75s/it]\u001b[A\n",
      " 50%|█████████████████████████████████████████▌                                         | 5/10 [01:07<00:55, 11.01s/it]\u001b[A\n",
      " 60%|█████████████████████████████████████████████████▊                                 | 6/10 [01:08<00:30,  7.58s/it]\u001b[A\n",
      " 70%|██████████████████████████████████████████████████████████                         | 7/10 [01:09<00:16,  5.39s/it]\u001b[A\n",
      " 80%|██████████████████████████████████████████████████████████████████▍                | 8/10 [01:10<00:07,  3.95s/it]\u001b[A\n",
      " 90%|██████████████████████████████████████████████████████████████████████████▋        | 9/10 [01:11<00:02,  2.97s/it]\u001b[A\n",
      "100%|██████████████████████████████████████████████████████████████████████████████████| 10/10 [01:12<00:00,  7.23s/it]\u001b[A\n",
      "Processing tc05:  33%|██████████████████████                                            | 4/12 [01:32<04:23, 32.88s/it]"
     ]
    },
    {
     "name": "stdout",
     "output_type": "stream",
     "text": [
      "Total runtime of the ontology realization is 0.430706262588501\n"
     ]
    },
    {
     "name": "stderr",
     "output_type": "stream",
     "text": [
      "\n",
      "  0%|                                                                                           | 0/10 [00:00<?, ?it/s]\u001b[A\n",
      " 10%|████████▎                                                                          | 1/10 [00:00<00:08,  1.02it/s]\u001b[A\n",
      " 20%|████████████████▌                                                                  | 2/10 [00:01<00:07,  1.00it/s]\u001b[A\n",
      " 30%|████████████████████████▉                                                          | 3/10 [00:02<00:06,  1.03it/s]\u001b[A\n",
      " 40%|█████████████████████████████████▏                                                 | 4/10 [00:03<00:05,  1.08it/s]\u001b[A\n",
      " 50%|█████████████████████████████████████████▌                                         | 5/10 [00:04<00:04,  1.03it/s]\u001b[A\n",
      " 60%|█████████████████████████████████████████████████▊                                 | 6/10 [00:05<00:03,  1.03it/s]\u001b[A\n",
      " 70%|██████████████████████████████████████████████████████████                         | 7/10 [00:06<00:02,  1.03it/s]\u001b[A\n",
      " 80%|██████████████████████████████████████████████████████████████████▍                | 8/10 [00:07<00:01,  1.03it/s]\u001b[A\n",
      " 90%|██████████████████████████████████████████████████████████████████████████▋        | 9/10 [00:08<00:00,  1.03it/s]\u001b[A\n",
      "100%|██████████████████████████████████████████████████████████████████████████████████| 10/10 [00:09<00:00,  1.03it/s]\u001b[A\n",
      "Processing tc06:  42%|███████████████████████████▌                                      | 5/12 [01:42<02:52, 24.68s/it]"
     ]
    },
    {
     "name": "stdout",
     "output_type": "stream",
     "text": [
      "Total runtime of the ontology realization is 0.42416858673095703\n"
     ]
    },
    {
     "name": "stderr",
     "output_type": "stream",
     "text": [
      "\n",
      "  0%|                                                                                           | 0/10 [00:00<?, ?it/s]\u001b[A\n",
      " 10%|████████▎                                                                          | 1/10 [00:02<00:18,  2.02s/it]\u001b[A\n",
      " 20%|████████████████▌                                                                  | 2/10 [00:04<00:16,  2.01s/it]\u001b[A\n",
      " 30%|████████████████████████▉                                                          | 3/10 [00:06<00:14,  2.01s/it]\u001b[A\n",
      " 40%|█████████████████████████████████▏                                                 | 4/10 [00:08<00:12,  2.00s/it]\u001b[A\n",
      " 50%|█████████████████████████████████████████▌                                         | 5/10 [00:08<00:06,  1.33s/it]\u001b[A\n",
      " 60%|█████████████████████████████████████████████████▊                                 | 6/10 [00:08<00:03,  1.09it/s]\u001b[A\n",
      " 70%|██████████████████████████████████████████████████████████                         | 7/10 [00:08<00:02,  1.49it/s]\u001b[A\n",
      " 80%|██████████████████████████████████████████████████████████████████▍                | 8/10 [00:08<00:01,  1.99it/s]\u001b[A\n",
      " 90%|██████████████████████████████████████████████████████████████████████████▋        | 9/10 [00:08<00:00,  2.57it/s]\u001b[A\n",
      "100%|██████████████████████████████████████████████████████████████████████████████████| 10/10 [00:08<00:00,  1.13it/s]\u001b[A\n",
      "Processing tc07:  50%|█████████████████████████████████                                 | 6/12 [01:52<01:56, 19.45s/it]"
     ]
    },
    {
     "name": "stdout",
     "output_type": "stream",
     "text": [
      "Total runtime of the ontology realization is 0.4058363437652588\n"
     ]
    },
    {
     "name": "stderr",
     "output_type": "stream",
     "text": [
      "\n",
      "  0%|                                                                                           | 0/10 [00:00<?, ?it/s]\u001b[A\n",
      " 10%|████████▎                                                                          | 1/10 [00:01<00:09,  1.08s/it]\u001b[A\n",
      " 30%|████████████████████████▉                                                          | 3/10 [00:02<00:04,  1.45it/s]\u001b[A\n",
      " 40%|█████████████████████████████████▏                                                 | 4/10 [00:02<00:02,  2.04it/s]\u001b[A\n",
      " 50%|█████████████████████████████████████████▌                                         | 5/10 [00:03<00:03,  1.44it/s]\u001b[A\n",
      " 60%|█████████████████████████████████████████████████▊                                 | 6/10 [00:04<00:03,  1.28it/s]\u001b[A\n",
      " 70%|██████████████████████████████████████████████████████████                         | 7/10 [00:05<00:02,  1.12it/s]\u001b[A\n",
      " 80%|██████████████████████████████████████████████████████████████████▍                | 8/10 [00:06<00:01,  1.09it/s]\u001b[A\n",
      " 90%|██████████████████████████████████████████████████████████████████████████▋        | 9/10 [00:07<00:00,  1.04it/s]\u001b[A\n",
      "100%|██████████████████████████████████████████████████████████████████████████████████| 10/10 [00:08<00:00,  1.16it/s]\u001b[A\n",
      "Processing tc08:  58%|██████████████████████████████████████▌                           | 7/12 [02:01<01:20, 16.06s/it]"
     ]
    },
    {
     "name": "stdout",
     "output_type": "stream",
     "text": [
      "Total runtime of the ontology realization is 0.32535409927368164\n"
     ]
    },
    {
     "name": "stderr",
     "output_type": "stream",
     "text": [
      "\n",
      "  0%|                                                                                           | 0/10 [00:00<?, ?it/s]\u001b[A\n",
      " 10%|████████▎                                                                          | 1/10 [00:00<00:08,  1.09it/s]\u001b[A\n",
      " 20%|████████████████▌                                                                  | 2/10 [00:01<00:07,  1.13it/s]\u001b[A\n",
      " 30%|████████████████████████▉                                                          | 3/10 [00:02<00:06,  1.07it/s]\u001b[A\n",
      " 40%|█████████████████████████████████▏                                                 | 4/10 [00:03<00:05,  1.08it/s]\u001b[A\n",
      " 50%|█████████████████████████████████████████▌                                         | 5/10 [00:04<00:05,  1.03s/it]\u001b[A\n",
      " 60%|█████████████████████████████████████████████████▊                                 | 6/10 [00:05<00:04,  1.02s/it]\u001b[A\n",
      " 70%|██████████████████████████████████████████████████████████                         | 7/10 [00:06<00:02,  1.01it/s]\u001b[A\n",
      " 80%|██████████████████████████████████████████████████████████████████▍                | 8/10 [00:07<00:01,  1.03it/s]\u001b[A\n",
      " 90%|██████████████████████████████████████████████████████████████████████████▋        | 9/10 [00:08<00:00,  1.01it/s]\u001b[A\n",
      "100%|██████████████████████████████████████████████████████████████████████████████████| 10/10 [00:09<00:00,  1.03it/s]\u001b[A\n",
      "Processing tc09:  67%|████████████████████████████████████████████                      | 8/12 [02:11<00:56, 14.15s/it]"
     ]
    },
    {
     "name": "stdout",
     "output_type": "stream",
     "text": [
      "Total runtime of the ontology realization is 0.4439845085144043\n"
     ]
    },
    {
     "name": "stderr",
     "output_type": "stream",
     "text": [
      "\n",
      "  0%|                                                                                           | 0/10 [00:00<?, ?it/s]\u001b[A\n",
      " 10%|████████▎                                                                          | 1/10 [00:00<00:02,  3.20it/s]\u001b[A\n",
      " 20%|████████████████▌                                                                  | 2/10 [00:00<00:01,  5.15it/s]\u001b[A\n",
      " 30%|████████████████████████▉                                                          | 3/10 [00:01<00:05,  1.25it/s]\u001b[A\n",
      " 40%|█████████████████████████████████▏                                                 | 4/10 [00:03<00:06,  1.04s/it]\u001b[A\n",
      " 50%|█████████████████████████████████████████▌                                         | 5/10 [00:04<00:06,  1.22s/it]\u001b[A\n",
      " 60%|█████████████████████████████████████████████████▊                                 | 6/10 [00:06<00:05,  1.35s/it]\u001b[A\n",
      " 70%|██████████████████████████████████████████████████████████                         | 7/10 [00:08<00:04,  1.45s/it]\u001b[A\n",
      " 80%|██████████████████████████████████████████████████████████████████▍                | 8/10 [00:09<00:02,  1.46s/it]\u001b[A\n",
      " 90%|██████████████████████████████████████████████████████████████████████████▋        | 9/10 [00:11<00:01,  1.45s/it]\u001b[A\n",
      "100%|██████████████████████████████████████████████████████████████████████████████████| 10/10 [00:12<00:00,  1.25s/it]\u001b[A\n",
      "Processing tc10:  75%|█████████████████████████████████████████████████▌                | 9/12 [02:24<00:41, 13.79s/it]"
     ]
    },
    {
     "name": "stdout",
     "output_type": "stream",
     "text": [
      "Total runtime of the ontology realization is 0.672105073928833\n"
     ]
    },
    {
     "name": "stderr",
     "output_type": "stream",
     "text": [
      "\n",
      "  0%|                                                                                           | 0/10 [00:00<?, ?it/s]\u001b[A\n",
      " 10%|████████▎                                                                          | 1/10 [00:01<00:12,  1.38s/it]\u001b[A\n",
      " 20%|████████████████▌                                                                  | 2/10 [00:06<00:28,  3.52s/it]\u001b[A\n",
      " 30%|████████████████████████▉                                                          | 3/10 [00:11<00:29,  4.23s/it]\u001b[A\n",
      " 40%|█████████████████████████████████▏                                                 | 4/10 [00:13<00:19,  3.28s/it]\u001b[A\n",
      " 50%|█████████████████████████████████████████▌                                         | 5/10 [00:15<00:13,  2.76s/it]\u001b[A\n",
      " 60%|█████████████████████████████████████████████████▊                                 | 6/10 [00:16<00:09,  2.43s/it]\u001b[A\n",
      " 70%|██████████████████████████████████████████████████████████                         | 7/10 [00:18<00:06,  2.26s/it]\u001b[A\n",
      " 80%|██████████████████████████████████████████████████████████████████▍                | 8/10 [00:21<00:04,  2.43s/it]\u001b[A\n",
      " 90%|██████████████████████████████████████████████████████████████████████████▋        | 9/10 [00:24<00:02,  2.49s/it]\u001b[A\n",
      "100%|██████████████████████████████████████████████████████████████████████████████████| 10/10 [00:26<00:00,  2.60s/it]\u001b[A\n",
      "Processing tc11:  83%|██████████████████████████████████████████████████████▏          | 10/12 [02:50<00:35, 17.77s/it]"
     ]
    },
    {
     "name": "stdout",
     "output_type": "stream",
     "text": [
      "Total runtime of the ontology realization is 0.4127659797668457\n"
     ]
    },
    {
     "name": "stderr",
     "output_type": "stream",
     "text": [
      "\n",
      "  0%|                                                                                           | 0/10 [00:00<?, ?it/s]\u001b[A\n",
      " 10%|████████▎                                                                          | 1/10 [00:00<00:02,  3.85it/s]\u001b[A\n",
      " 20%|████████████████▌                                                                  | 2/10 [00:00<00:01,  4.93it/s]\u001b[A\n",
      " 30%|████████████████████████▉                                                          | 3/10 [00:00<00:01,  5.64it/s]\u001b[A\n",
      " 40%|█████████████████████████████████▏                                                 | 4/10 [00:04<00:08,  1.47s/it]\u001b[A\n",
      " 50%|█████████████████████████████████████████▌                                         | 5/10 [00:07<00:10,  2.17s/it]\u001b[A\n",
      " 60%|█████████████████████████████████████████████████▊                                 | 6/10 [00:10<00:10,  2.60s/it]\u001b[A\n",
      " 70%|██████████████████████████████████████████████████████████                         | 7/10 [00:11<00:05,  1.81s/it]\u001b[A\n",
      " 80%|██████████████████████████████████████████████████████████████████▍                | 8/10 [00:12<00:03,  1.64s/it]\u001b[A\n",
      " 90%|██████████████████████████████████████████████████████████████████████████▋        | 9/10 [00:12<00:01,  1.19s/it]\u001b[A\n",
      "100%|██████████████████████████████████████████████████████████████████████████████████| 10/10 [00:12<00:00,  1.28s/it]\u001b[A\n",
      "Processing tc12:  92%|███████████████████████████████████████████████████████████▌     | 11/12 [03:04<00:16, 16.37s/it]"
     ]
    },
    {
     "name": "stdout",
     "output_type": "stream",
     "text": [
      "Total runtime of the ontology realization is 0.38105344772338867\n"
     ]
    },
    {
     "name": "stderr",
     "output_type": "stream",
     "text": [
      "\n",
      "  0%|                                                                                           | 0/10 [00:00<?, ?it/s]\u001b[A\n",
      " 10%|████████▎                                                                          | 1/10 [00:01<00:09,  1.09s/it]\u001b[A\n",
      " 20%|████████████████▌                                                                  | 2/10 [00:02<00:08,  1.08s/it]\u001b[A\n",
      " 30%|████████████████████████▉                                                          | 3/10 [00:03<00:07,  1.06s/it]\u001b[A\n",
      " 40%|█████████████████████████████████▏                                                 | 4/10 [00:04<00:06,  1.07s/it]\u001b[A\n",
      " 50%|█████████████████████████████████████████▌                                         | 5/10 [00:05<00:05,  1.07s/it]\u001b[A\n",
      " 60%|█████████████████████████████████████████████████▊                                 | 6/10 [00:06<00:04,  1.08s/it]\u001b[A\n",
      " 70%|██████████████████████████████████████████████████████████                         | 7/10 [00:07<00:03,  1.06s/it]\u001b[A\n",
      " 80%|██████████████████████████████████████████████████████████████████▍                | 8/10 [00:08<00:02,  1.07s/it]\u001b[A\n",
      " 90%|██████████████████████████████████████████████████████████████████████████▋        | 9/10 [00:09<00:01,  1.07s/it]\u001b[A\n",
      "100%|██████████████████████████████████████████████████████████████████████████████████| 10/10 [00:10<00:00,  1.07s/it]\u001b[A\n",
      "Processing tc12: 100%|█████████████████████████████████████████████████████████████████| 12/12 [03:15<00:00, 16.27s/it]\n"
     ]
    },
    {
     "data": {
      "image/png": "[encoded data removed]",
      "text/plain": [
       "<Figure size 640x480 with 2 Axes>"
      ]
     },
     "metadata": {},
     "output_type": "display_data"
    }
   ],
   "source": [
    "run(True, result_dir + 'with_Reasoning.png')"
   ]
  },
  {
   "cell_type": "code",
   "execution_count": 14,
   "id": "34181639",
   "metadata": {},
   "outputs": [
    {
     "name": "stderr",
     "output_type": "stream",
     "text": [
      "Building queries from symbolic models: 100%|███████████████████████████████████████████| 12/12 [00:04<00:00,  2.66it/s]\n",
      "Processing tc01:   0%|                                                                          | 0/12 [00:00<?, ?it/s]\n",
      "  0%|                                                                                           | 0/10 [00:00<?, ?it/s]\u001b[A\n",
      " 20%|████████████████▌                                                                  | 2/10 [00:00<00:01,  4.77it/s]\u001b[A\n",
      " 30%|████████████████████████▉                                                          | 3/10 [00:00<00:01,  3.70it/s]\u001b[A\n",
      " 40%|█████████████████████████████████▏                                                 | 4/10 [00:01<00:01,  3.35it/s]\u001b[A\n",
      " 50%|█████████████████████████████████████████▌                                         | 5/10 [00:01<00:01,  2.89it/s]\u001b[A\n",
      " 60%|█████████████████████████████████████████████████▊                                 | 6/10 [00:01<00:01,  2.93it/s]\u001b[A\n",
      " 70%|██████████████████████████████████████████████████████████                         | 7/10 [00:02<00:01,  2.88it/s]\u001b[A\n",
      " 80%|██████████████████████████████████████████████████████████████████▍                | 8/10 [00:02<00:00,  2.87it/s]\u001b[A\n",
      " 90%|██████████████████████████████████████████████████████████████████████████▋        | 9/10 [00:03<00:00,  2.72it/s]\u001b[A\n",
      "100%|██████████████████████████████████████████████████████████████████████████████████| 10/10 [00:03<00:00,  2.97it/s]\u001b[A\n",
      "Processing tc02:   8%|█████▌                                                            | 1/12 [00:03<00:37,  3.44s/it]\n",
      "100%|█████████████████████████████████████████████████████████████████████████████████| 10/10 [00:00<00:00, 137.80it/s]\u001b[A\n",
      "Processing tc03:  17%|███████████                                                       | 2/12 [00:03<00:15,  1.52s/it]\n",
      "  0%|                                                                                           | 0/10 [00:00<?, ?it/s]\u001b[A\n",
      " 10%|████████▎                                                                          | 1/10 [00:00<00:04,  1.92it/s]\u001b[A\n",
      " 20%|████████████████▌                                                                  | 2/10 [00:00<00:02,  2.81it/s]\u001b[A\n",
      " 30%|████████████████████████▉                                                          | 3/10 [00:01<00:02,  2.80it/s]\u001b[A\n",
      " 40%|█████████████████████████████████▏                                                 | 4/10 [00:01<00:02,  2.60it/s]\u001b[A\n",
      " 50%|█████████████████████████████████████████▌                                         | 5/10 [00:01<00:01,  2.67it/s]\u001b[A\n",
      " 60%|█████████████████████████████████████████████████▊                                 | 6/10 [00:02<00:01,  2.68it/s]\u001b[A\n",
      " 70%|██████████████████████████████████████████████████████████                         | 7/10 [00:02<00:01,  2.68it/s]\u001b[A\n",
      " 80%|██████████████████████████████████████████████████████████████████▍                | 8/10 [00:03<00:00,  2.54it/s]\u001b[A\n",
      " 90%|██████████████████████████████████████████████████████████████████████████▋        | 9/10 [00:03<00:00,  2.58it/s]\u001b[A\n",
      "100%|██████████████████████████████████████████████████████████████████████████████████| 10/10 [00:03<00:00,  2.62it/s]\u001b[A\n",
      "Processing tc04:  25%|████████████████▌                                                 | 3/12 [00:07<00:23,  2.60s/it]\n",
      "  0%|                                                                                           | 0/10 [00:00<?, ?it/s]\u001b[A\n",
      " 10%|████████▎                                                                          | 1/10 [00:04<00:37,  4.13s/it]\u001b[A\n",
      " 20%|████████████████▌                                                                  | 2/10 [00:08<00:32,  4.12s/it]\u001b[A\n",
      " 30%|████████████████████████▉                                                          | 3/10 [00:12<00:28,  4.07s/it]\u001b[A\n",
      " 40%|█████████████████████████████████▏                                                 | 4/10 [00:16<00:24,  4.06s/it]\u001b[A\n",
      " 50%|█████████████████████████████████████████▌                                         | 5/10 [00:16<00:13,  2.70s/it]\u001b[A\n",
      " 60%|█████████████████████████████████████████████████▊                                 | 6/10 [00:16<00:07,  1.88s/it]\u001b[A\n",
      " 70%|██████████████████████████████████████████████████████████                         | 7/10 [00:17<00:04,  1.38s/it]\u001b[A\n",
      " 80%|██████████████████████████████████████████████████████████████████▍                | 8/10 [00:17<00:02,  1.03s/it]\u001b[A\n",
      " 90%|██████████████████████████████████████████████████████████████████████████▋        | 9/10 [00:17<00:00,  1.25it/s]\u001b[A\n",
      "100%|██████████████████████████████████████████████████████████████████████████████████| 10/10 [00:18<00:00,  1.81s/it]\u001b[A\n",
      "Processing tc05:  33%|██████████████████████                                            | 4/12 [00:25<01:10,  8.75s/it]\n",
      "  0%|                                                                                           | 0/10 [00:00<?, ?it/s]\u001b[A\n",
      " 10%|████████▎                                                                          | 1/10 [00:00<00:02,  3.10it/s]\u001b[A\n",
      " 20%|████████████████▌                                                                  | 2/10 [00:00<00:02,  2.98it/s]\u001b[A\n",
      " 30%|████████████████████████▉                                                          | 3/10 [00:01<00:02,  2.70it/s]\u001b[A\n",
      " 40%|█████████████████████████████████▏                                                 | 4/10 [00:01<00:02,  2.78it/s]\u001b[A\n",
      " 50%|█████████████████████████████████████████▌                                         | 5/10 [00:01<00:01,  2.60it/s]\u001b[A\n",
      " 60%|█████████████████████████████████████████████████▊                                 | 6/10 [00:02<00:01,  2.72it/s]\u001b[A\n",
      " 70%|██████████████████████████████████████████████████████████                         | 7/10 [00:02<00:01,  2.78it/s]\u001b[A\n",
      " 80%|██████████████████████████████████████████████████████████████████▍                | 8/10 [00:02<00:00,  2.67it/s]\u001b[A\n",
      " 90%|██████████████████████████████████████████████████████████████████████████▋        | 9/10 [00:03<00:00,  2.76it/s]\u001b[A\n",
      "100%|██████████████████████████████████████████████████████████████████████████████████| 10/10 [00:03<00:00,  2.77it/s]\u001b[A\n",
      "Processing tc06:  42%|███████████████████████████▌                                      | 5/12 [00:29<00:48,  6.95s/it]\n",
      "  0%|                                                                                           | 0/10 [00:00<?, ?it/s]\u001b[A\n",
      " 10%|████████▎                                                                          | 1/10 [00:00<00:02,  3.27it/s]\u001b[A\n",
      " 20%|████████████████▌                                                                  | 2/10 [00:00<00:02,  3.27it/s]\u001b[A\n",
      " 30%|████████████████████████▉                                                          | 3/10 [00:00<00:02,  3.24it/s]\u001b[A\n",
      " 40%|█████████████████████████████████▏                                                 | 4/10 [00:01<00:01,  3.25it/s]\u001b[A\n",
      " 50%|█████████████████████████████████████████▌                                         | 5/10 [00:01<00:01,  4.24it/s]\u001b[A\n",
      "100%|██████████████████████████████████████████████████████████████████████████████████| 10/10 [00:01<00:00,  6.66it/s]\u001b[A\n",
      "Processing tc07:  50%|█████████████████████████████████                                 | 6/12 [00:31<00:30,  5.12s/it]\n",
      "  0%|                                                                                           | 0/10 [00:00<?, ?it/s]\u001b[A\n",
      " 10%|████████▎                                                                          | 1/10 [00:00<00:03,  2.82it/s]\u001b[A\n",
      " 30%|████████████████████████▉                                                          | 3/10 [00:00<00:01,  3.67it/s]\u001b[A\n",
      " 50%|█████████████████████████████████████████▌                                         | 5/10 [00:01<00:01,  4.24it/s]\u001b[A\n",
      " 60%|█████████████████████████████████████████████████▊                                 | 6/10 [00:01<00:01,  3.63it/s]\u001b[A\n",
      " 70%|██████████████████████████████████████████████████████████                         | 7/10 [00:02<00:00,  3.09it/s]\u001b[A\n",
      " 80%|██████████████████████████████████████████████████████████████████▍                | 8/10 [00:02<00:00,  2.98it/s]\u001b[A\n",
      " 90%|██████████████████████████████████████████████████████████████████████████▋        | 9/10 [00:02<00:00,  2.88it/s]\u001b[A\n",
      "100%|██████████████████████████████████████████████████████████████████████████████████| 10/10 [00:03<00:00,  3.07it/s]\u001b[A\n",
      "Processing tc08:  58%|██████████████████████████████████████▌                           | 7/12 [00:34<00:22,  4.54s/it]\n",
      "  0%|                                                                                           | 0/10 [00:00<?, ?it/s]\u001b[A\n",
      " 10%|████████▎                                                                          | 1/10 [00:00<00:02,  3.07it/s]\u001b[A\n",
      " 20%|████████████████▌                                                                  | 2/10 [00:00<00:02,  3.02it/s]\u001b[A\n",
      " 30%|████████████████████████▉                                                          | 3/10 [00:01<00:02,  2.72it/s]\u001b[A\n",
      " 40%|█████████████████████████████████▏                                                 | 4/10 [00:01<00:02,  2.81it/s]\u001b[A\n",
      " 50%|█████████████████████████████████████████▌                                         | 5/10 [00:01<00:01,  2.87it/s]\u001b[A\n",
      " 60%|█████████████████████████████████████████████████▊                                 | 6/10 [00:02<00:01,  2.94it/s]\u001b[A\n",
      " 70%|██████████████████████████████████████████████████████████                         | 7/10 [00:02<00:01,  2.73it/s]\u001b[A\n",
      " 80%|██████████████████████████████████████████████████████████████████▍                | 8/10 [00:02<00:00,  2.78it/s]\u001b[A\n",
      " 90%|██████████████████████████████████████████████████████████████████████████▋        | 9/10 [00:03<00:00,  2.85it/s]\u001b[A\n",
      "100%|██████████████████████████████████████████████████████████████████████████████████| 10/10 [00:03<00:00,  2.83it/s]\u001b[A\n",
      "Processing tc09:  67%|████████████████████████████████████████████                      | 8/12 [00:37<00:16,  4.24s/it]\n",
      "  0%|                                                                                           | 0/10 [00:00<?, ?it/s]\u001b[A\n",
      " 30%|████████████████████████▉                                                          | 3/10 [00:00<00:01,  5.78it/s]\u001b[A\n",
      " 40%|█████████████████████████████████▏                                                 | 4/10 [00:01<00:01,  3.45it/s]\u001b[A\n",
      " 50%|█████████████████████████████████████████▌                                         | 5/10 [00:01<00:01,  2.59it/s]\u001b[A\n",
      " 60%|█████████████████████████████████████████████████▊                                 | 6/10 [00:02<00:01,  2.48it/s]\u001b[A\n",
      " 70%|██████████████████████████████████████████████████████████                         | 7/10 [00:02<00:01,  2.33it/s]\u001b[A\n",
      " 80%|██████████████████████████████████████████████████████████████████▍                | 8/10 [00:03<00:00,  2.26it/s]\u001b[A\n",
      " 90%|██████████████████████████████████████████████████████████████████████████▋        | 9/10 [00:03<00:00,  2.09it/s]\u001b[A\n",
      "100%|██████████████████████████████████████████████████████████████████████████████████| 10/10 [00:04<00:00,  2.44it/s]\u001b[A\n",
      "Processing tc10:  75%|█████████████████████████████████████████████████▌                | 9/12 [00:42<00:12,  4.24s/it]\n",
      "  0%|                                                                                           | 0/10 [00:00<?, ?it/s]\u001b[A\n",
      " 10%|████████▎                                                                          | 1/10 [00:00<00:05,  1.75it/s]\u001b[A\n",
      " 20%|████████████████▌                                                                  | 2/10 [00:01<00:04,  1.82it/s]\u001b[A\n",
      " 30%|████████████████████████▉                                                          | 3/10 [00:01<00:03,  1.84it/s]\u001b[A\n",
      " 40%|█████████████████████████████████▏                                                 | 4/10 [00:02<00:03,  1.74it/s]\u001b[A\n",
      " 50%|█████████████████████████████████████████▌                                         | 5/10 [00:02<00:03,  1.62it/s]\u001b[A\n",
      " 60%|█████████████████████████████████████████████████▊                                 | 6/10 [00:03<00:02,  1.61it/s]\u001b[A\n",
      " 70%|██████████████████████████████████████████████████████████                         | 7/10 [00:04<00:01,  1.71it/s]\u001b[A\n",
      " 80%|██████████████████████████████████████████████████████████████████▍                | 8/10 [00:04<00:01,  1.78it/s]\u001b[A\n",
      " 90%|██████████████████████████████████████████████████████████████████████████▋        | 9/10 [00:05<00:00,  1.79it/s]\u001b[A\n",
      "100%|██████████████████████████████████████████████████████████████████████████████████| 10/10 [00:05<00:00,  1.75it/s]\u001b[A\n",
      "Processing tc11:  83%|██████████████████████████████████████████████████████▏          | 10/12 [00:48<00:09,  4.74s/it]\n",
      "  0%|                                                                                           | 0/10 [00:00<?, ?it/s]\u001b[A\n",
      " 40%|█████████████████████████████████▏                                                 | 4/10 [00:00<00:01,  5.16it/s]\u001b[A\n",
      " 50%|█████████████████████████████████████████▌                                         | 5/10 [00:01<00:01,  3.13it/s]\u001b[A\n",
      " 60%|█████████████████████████████████████████████████▊                                 | 6/10 [00:02<00:01,  2.43it/s]\u001b[A\n",
      "100%|██████████████████████████████████████████████████████████████████████████████████| 10/10 [00:02<00:00,  3.84it/s]\u001b[A\n",
      "Processing tc12:  92%|███████████████████████████████████████████████████████████▌     | 11/12 [00:50<00:04,  4.11s/it]\n",
      "  0%|                                                                                           | 0/10 [00:00<?, ?it/s]\u001b[A\n",
      " 10%|████████▎                                                                          | 1/10 [00:00<00:03,  2.59it/s]\u001b[A\n",
      " 20%|████████████████▌                                                                  | 2/10 [00:00<00:03,  2.32it/s]\u001b[A\n",
      " 30%|████████████████████████▉                                                          | 3/10 [00:01<00:02,  2.42it/s]\u001b[A\n",
      " 40%|█████████████████████████████████▏                                                 | 4/10 [00:01<00:02,  2.46it/s]\u001b[A\n",
      " 50%|█████████████████████████████████████████▌                                         | 5/10 [00:02<00:02,  2.34it/s]\u001b[A\n",
      " 60%|█████████████████████████████████████████████████▊                                 | 6/10 [00:02<00:01,  2.38it/s]\u001b[A\n",
      " 70%|██████████████████████████████████████████████████████████                         | 7/10 [00:02<00:01,  2.41it/s]\u001b[A\n",
      " 80%|██████████████████████████████████████████████████████████████████▍                | 8/10 [00:03<00:00,  2.44it/s]\u001b[A\n",
      " 90%|██████████████████████████████████████████████████████████████████████████▋        | 9/10 [00:03<00:00,  2.28it/s]\u001b[A\n",
      "100%|██████████████████████████████████████████████████████████████████████████████████| 10/10 [00:04<00:00,  2.36it/s]\u001b[A\n",
      "Processing tc12: 100%|█████████████████████████████████████████████████████████████████| 12/12 [00:55<00:00,  4.59s/it]\n"
     ]
    },
    {
     "data": {
      "image/png": "[encoded data removed]",
      "text/plain": [
       "<Figure size 640x480 with 2 Axes>"
      ]
     },
     "metadata": {},
     "output_type": "display_data"
    }
   ],
   "source": [
    "run(False, result_dir + 'no_Reasoning.png')"
   ]
  },
  {
   "cell_type": "code",
   "execution_count": 15,
   "id": "757cb931",
   "metadata": {},
   "outputs": [
    {
     "name": "stdout",
     "output_type": "stream",
     "text": [
      "Finish :)\n"
     ]
    }
   ],
   "source": [
    "print(\"Finish :)\")"
   ]
  },
  {
   "cell_type": "code",
   "execution_count": null,
   "id": "dadec526",
   "metadata": {},
   "outputs": [],
   "source": []
  }
 ],
 "metadata": {
  "kernelspec": {
   "display_name": "Python 3 (ipykernel)",
   "language": "python",
   "name": "python3"
  },
  "language_info": {
   "codemirror_mode": {
    "name": "ipython",
    "version": 3
   },
   "file_extension": ".py",
   "mimetype": "text/x-python",
   "name": "python",
   "nbconvert_exporter": "python",
   "pygments_lexer": "ipython3",
   "version": "3.9.13"
  }
 },
 "nbformat": 4,
 "nbformat_minor": 5
}
